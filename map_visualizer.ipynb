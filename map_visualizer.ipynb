{
 "cells": [
  {
   "cell_type": "code",
   "execution_count": null,
   "metadata": {},
   "outputs": [],
   "source": [
    "import matplotlib.pyplot as plt\n",
    "import numpy as np\n",
    "import json\n",
    "import pandas as pd"
   ]
  },
  {
   "cell_type": "code",
   "execution_count": null,
   "metadata": {},
   "outputs": [],
   "source": [
    "map_name = \"testtrack\"\n",
    "\n",
    "checkpoints = []\n",
    "with open(f\"{map_name}.json\") as f:\n",
    "    map_info = json.load(f)\n",
    "    checkpoints = map_info[\"checkpoints\"]"
   ]
  },
  {
   "cell_type": "code",
   "execution_count": null,
   "metadata": {},
   "outputs": [],
   "source": [
    "def get_distance(x1, y1, x2, y2):\n",
    "    '''get_distance Returns the distance between two points\n",
    "    '''\n",
    "    return np.sqrt((x1 - x2)**2 + (y1 - y2)**2)\n",
    "\n",
    "def calc_current_waypoint(x, y):\n",
    "    '''get_current_checkpoint Returns the current checkpoint\n",
    "    '''\n",
    "    check_dists = []\n",
    "    for checkpoint in checkpoints:\n",
    "        check_dists.append(get_distance(x, y, checkpoint[0], checkpoint[1]))\n",
    "    \n",
    "    closest_check_dist_idx = int(np.argmin(check_dists))\n",
    "    closest_idx = int(closest_check_dist_idx)\n",
    "    dist_to_closest = check_dists[closest_check_dist_idx]\n",
    "    closest_wpt = checkpoints[closest_idx]\n",
    "    \n",
    "    dist_to_next = check_dists[min(closest_check_dist_idx + 1, len(check_dists) - 1)]\n",
    "    next_wpt = checkpoints[min(closest_idx + 1, len(check_dists) - 1)]\n",
    "\n",
    "    dist_btw_next = get_distance(closest_wpt[0], closest_wpt[1], next_wpt[0], next_wpt[1])\n",
    "\n",
    "    if dist_to_closest < 120.0 or (dist_to_next < dist_btw_next + 50.0 and closest_idx < len(checkpoints) - 1):\n",
    "        closest_idx += 1\n",
    "\n",
    "    return max(min(closest_idx, len(checkpoints) - 1), 0)"
   ]
  },
  {
   "cell_type": "code",
   "execution_count": null,
   "metadata": {},
   "outputs": [],
   "source": [
    "density = 1000\n",
    "scaling = 3500.0 / float(density)\n",
    "wpt_map = np.zeros((density, density))\n",
    "for x in range(0, density):\n",
    "    for y in range(density):\n",
    "        wpt_map[x][y] = calc_current_waypoint(int(x * scaling), int(y * scaling)) % 5\n",
    "        "
   ]
  },
  {
   "cell_type": "code",
   "execution_count": null,
   "metadata": {},
   "outputs": [],
   "source": [
    "map_name = \"testtrack\"\n",
    "## Plotting\n",
    "fig, ax = plt.subplots()\n",
    "wpt_map_adj = np.transpose(wpt_map)\n",
    "ax.imshow(wpt_map_adj, cmap='Set3', interpolation='nearest')\n",
    "\n",
    "## Overlay waypoints\n",
    "color_idx = 0\n",
    "for checkpoint in checkpoints:\n",
    "    color_idx += 1\n",
    "    color_idx %= 5\n",
    "    ax.scatter(checkpoint[0] / scaling, checkpoint[1] / scaling, color='black', s=25)\n",
    "\n",
    "## Overlay map png on top of heatmap\n",
    "img = plt.imread(f\"assets/{map_name}_clear.png\")\n",
    "ax.imshow(img, alpha=0.8, extent=[0, 1000, 0, 1000])\n",
    "## set plot size to density\n",
    "fig.set_size_inches(density / 100, density / 100)\n",
    "\n",
    "## hide axes\n",
    "ax.axis('off')\n",
    "\n",
    "plt.show()"
   ]
  },
  {
   "cell_type": "code",
   "execution_count": null,
   "metadata": {},
   "outputs": [],
   "source": [
    "def calc_course_progress(x,y) -> float:\n",
    "\n",
    "    percent_per_checkpt = 100.0 / float(len(checkpoints) - 1)\n",
    "    checkpt_idx = calc_current_waypoint(x,y) - 1\n",
    "\n",
    "    base_percentage = percent_per_checkpt * checkpt_idx\n",
    "    distance_to_checkpt = get_distance(x, y, checkpoints[checkpt_idx + 1][0], checkpoints[checkpt_idx + 1][1])\n",
    "    distance_btw_checkpt = get_distance(checkpoints[checkpt_idx][0], checkpoints[checkpt_idx][1], checkpoints[min(checkpt_idx + 1, len(checkpoints) - 1)][0], checkpoints[min(checkpt_idx + 1, len(checkpoints) - 1)][1]) - 120.0\n",
    "    percent_to_next = ((distance_btw_checkpt - distance_to_checkpt) / distance_btw_checkpt) * percent_per_checkpt\n",
    "    return max(min(round(base_percentage + percent_to_next, 3), 99.999), 0.1)\n",
    "\n",
    "course_length_list = [0.0 for _ in checkpoints]\n",
    "\n",
    "def get_total_course_length(idx: int = len(checkpoints) - 1) -> float:\n",
    "    if idx <= 0:\n",
    "        return 0.0\n",
    "    if course_length_list[idx] != 0:\n",
    "        return course_length_list[idx]\n",
    "    total_length = 0.0\n",
    "    for i in range(0, idx):\n",
    "        total_length += get_distance(checkpoints[i][0], checkpoints[i][1], checkpoints[i + 1][0], checkpoints[i + 1][1])\n",
    "    course_length_list[idx] = total_length\n",
    "    return total_length\n",
    "\n",
    "def get_course_progress(x, y) -> float:\n",
    "    percent_per_unit = 100.0 / get_total_course_length()\n",
    "    checkpt_idx = calc_current_waypoint(x,y) - 1\n",
    "\n",
    "    base_percentage = percent_per_unit * get_total_course_length(checkpt_idx)\n",
    "    distance_to_checkpt = get_distance(x, y, checkpoints[checkpt_idx + 1][0], checkpoints[checkpt_idx + 1][1])\n",
    "    distance_btw_checkpt = get_distance(checkpoints[checkpt_idx][0], checkpoints[checkpt_idx][1], checkpoints[min(checkpt_idx + 1, len(checkpoints) - 1)][0], checkpoints[min(checkpt_idx + 1, len(checkpoints) - 1)][1]) - 120.0\n",
    "    percent_to_next = (distance_btw_checkpt - distance_to_checkpt) * percent_per_unit\n",
    "    return max(min(round(base_percentage + percent_to_next, 3), 99.999), 0.1)"
   ]
  },
  {
   "cell_type": "code",
   "execution_count": null,
   "metadata": {},
   "outputs": [],
   "source": [
    "\n",
    "completion_map = np.zeros((density, density))\n",
    "for x in range(0, density):\n",
    "    for y in range(density):\n",
    "        completion_map[x][y] = get_course_progress(int(x * scaling), int(y * scaling))\n",
    "        "
   ]
  },
  {
   "cell_type": "code",
   "execution_count": null,
   "metadata": {},
   "outputs": [],
   "source": [
    "map_name = \"testtrack\"\n",
    "## Plotting\n",
    "fig, ax = plt.subplots()\n",
    "completion_map_adj = np.transpose(completion_map)\n",
    "ax.imshow(completion_map_adj, cmap='Greys', interpolation='nearest')\n",
    "\n",
    "## Overlay waypoints\n",
    "color_idx = 0\n",
    "for checkpoint in checkpoints:\n",
    "    color_idx += 1\n",
    "    color_idx %= 5\n",
    "    ##ax.scatter(checkpoint[0] / scaling, checkpoint[1] / scaling, color='black', s=25)\n",
    "\n",
    "## Overlay map png on top of heatmap\n",
    "img = plt.imread(f\"assets/{map_name}_clear.png\")\n",
    "ax.imshow(img, alpha=0.8, extent=[0, 1000, 0, 1000])\n",
    "## set plot size to density\n",
    "fig.set_size_inches(density / 100, density / 100)\n",
    "\n",
    "## hide axes\n",
    "ax.axis('off')\n",
    "\n",
    "plt.show()"
   ]
  },
  {
   "cell_type": "code",
   "execution_count": null,
   "metadata": {},
   "outputs": [],
   "source": [
    "map_name = \"circuit1_b\"\n",
    "new_start = \"R\""
   ]
  },
  {
   "cell_type": "code",
   "execution_count": null,
   "metadata": {},
   "outputs": [],
   "source": [
    "alphabet = \"ABCDEFGHIJKLMNOPQRSTUVWXYZ\"\n",
    "offset = alphabet.index(new_start)\n",
    "input(\"CAUTION: This will modify the JSON and XP files for the map. Press enter to continue.\")\n",
    "\n",
    "## Modify JSON checkpoints to start at new start alphabetically\n",
    "with open(f\"{map_name}.json\", \"r\") as f:\n",
    "    data = json.load(f)\n",
    "    checkpts = data[\"checkpoints\"]\n",
    "    checkpts = checkpts[1:-1]\n",
    "    checkpts = checkpts[offset:] + checkpts[:offset]\n",
    "    checkpts = [checkpoints[0]] + checkpts + [checkpoints[-1]]\n",
    "    data[\"checkpoints\"] = checkpts\n",
    "with open(f\"{map_name}.json\", \"w\") as f:\n",
    "    json.dump(data, f, indent=4)\n",
    "## Modify checkpoints to start at new start alphabetically\n",
    "\n",
    "alphabet = alphabet[:len(checkpts) - 3]\n",
    "with open(f\"{map_name}.xp\", \"r\") as f:\n",
    "    lines = f.readlines()\n",
    "    start_replace = False\n",
    "    new_map_lines = []\n",
    "    for line in lines:\n",
    "        line = line.strip()\n",
    "        if not start_replace:\n",
    "            if line.startswith(\"mapData:\"):\n",
    "                start_replace = True\n",
    "            new_map_lines.append(line)\n",
    "            continue\n",
    "        if line.startswith(\"End\"):\n",
    "            start_replace = False\n",
    "            new_map_lines.append(line)\n",
    "            continue\n",
    "        for char in line:\n",
    "            if char in alphabet:\n",
    "                start_idx = alphabet.index(char)\n",
    "                new_idx = (start_idx - offset) % len(alphabet)\n",
    "                line = line.replace(char, alphabet[new_idx])\n",
    "        new_map_lines.append(line)\n",
    "with open(f\"{map_name}.xp\", \"w\") as f:\n",
    "    f.writelines(new_map_lines)\n"
   ]
  }
 ],
 "metadata": {
  "kernelspec": {
   "display_name": "Python 3.8.12 ('com407')",
   "language": "python",
   "name": "python3"
  },
  "language_info": {
   "codemirror_mode": {
    "name": "ipython",
    "version": 3
   },
   "file_extension": ".py",
   "mimetype": "text/x-python",
   "name": "python",
   "nbconvert_exporter": "python",
   "pygments_lexer": "ipython3",
   "version": "3.8.12"
  },
  "orig_nbformat": 4,
  "vscode": {
   "interpreter": {
    "hash": "b462d1008aada4b07c21845b7aca2ba1951132180f0f78ba8a68845d05e2f5c2"
   }
  }
 },
 "nbformat": 4,
 "nbformat_minor": 2
}
